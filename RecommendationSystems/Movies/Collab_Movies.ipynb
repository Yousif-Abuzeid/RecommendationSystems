{
 "cells": [
  {
   "cell_type": "code",
   "execution_count": 2,
   "metadata": {},
   "outputs": [],
   "source": [
    "import numpy as np\n",
    "import pandas as pd\n",
    "import io\n",
    "import re"
   ]
  },
  {
   "cell_type": "code",
   "execution_count": 4,
   "metadata": {},
   "outputs": [
    {
     "name": "stderr",
     "output_type": "stream",
     "text": [
      "C:\\Users\\20109\\AppData\\Local\\Temp\\ipykernel_19324\\3738254216.py:3: ParserWarning: Falling back to the 'python' engine because the 'c' engine does not support regex separators (separators > 1 char and different from '\\s+' are interpreted as regex); you can avoid this warning by specifying engine='python'.\n",
      "  ratings_df = pd.read_csv('ratings.dat', delimiter='::',names=column_names_ratings)\n",
      "C:\\Users\\20109\\AppData\\Local\\Temp\\ipykernel_19324\\3738254216.py:4: ParserWarning: Falling back to the 'python' engine because the 'c' engine does not support regex separators (separators > 1 char and different from '\\s+' are interpreted as regex); you can avoid this warning by specifying engine='python'.\n",
      "  movies_df=pd.read_csv('movies.dat', delimiter='::',names=column_names_movies,encoding='latin1')\n"
     ]
    }
   ],
   "source": [
    "column_names_ratings = ['UserID', 'MovieID', 'Rating', 'Timestamp']\n",
    "column_names_movies = ['MovieID', 'Title', 'Genres']\n",
    "ratings_df = pd.read_csv('ratings.dat', delimiter='::',names=column_names_ratings)\n",
    "movies_df=pd.read_csv('movies.dat', delimiter='::',names=column_names_movies,encoding='latin1')"
   ]
  },
  {
   "cell_type": "code",
   "execution_count": 19,
   "metadata": {},
   "outputs": [],
   "source": [
    "def recommend(user_id,Movie_list=[]):\n",
    "    \n",
    "    df=ratings_df.copy()\n",
    "\n",
    "    my_user=df[df['UserID']==user_id]\n",
    "\n",
    "    if(Movie_list!=[]):\n",
    "        my_user_latest_Movies=Movie_list\n",
    "\n",
    "    my_user_latest_Movies=my_user.sort_values(by='Rating',ascending=False).head(5)\n",
    "\n",
    "    similar_users=df[df['MovieID'].isin(my_user_latest_Movies['MovieID'].tolist()) &  (df['UserID'] != user_id) &(df['Rating'] > 4) ]\n",
    "\n",
    "    similar_users=df[df['UserID'].isin(similar_users['UserID'])]\n",
    "\n",
    "    similar_users_Movies=similar_users[~similar_users['MovieID'].isin(my_user_latest_Movies['MovieID'].tolist())]\n",
    "\n",
    "    Movie_options=similar_users_Movies[similar_users_Movies['Rating'] >= 4]\n",
    "\n",
    "    Movie_options=Movie_options.sort_values(by='Rating',ascending=False)\n",
    "\n",
    "    new_df=Movie_options\n",
    "\n",
    "    mean_ratings = Movie_options.groupby('MovieID')['Rating'].mean()\n",
    "\n",
    "# Merge the mean_ratings back into the original DataFrame\n",
    "    new_df = new_df.merge(mean_ratings, left_on='MovieID', right_index=True, suffixes=('', '_mean'))\n",
    "\n",
    "    value_counts=new_df['MovieID'].value_counts()\n",
    "\n",
    "    new_df['value_counts_col']=new_df['MovieID'].map(value_counts)\n",
    "\n",
    "    new_df=new_df.sort_values(by=['value_counts_col','Rating_mean'],ascending=False)\n",
    "\n",
    "    new_df=new_df.drop_duplicates(subset=['MovieID'])\n",
    "    new_df=new_df.drop(columns=['UserID'])\n",
    "    return new_df[:5]\n"
   ]
  },
  {
   "cell_type": "code",
   "execution_count": 20,
   "metadata": {},
   "outputs": [
    {
     "name": "stdout",
     "output_type": "stream",
     "text": [
      "        MovieID  Rating  Timestamp  Rating_mean  value_counts_col\n",
      "563284        1       5  967170089     4.755700               307\n",
      "557234     1196       5  967359892     4.736667               300\n",
      "557190      260       5  967360233     4.854237               295\n",
      "557253     3114       5  967364570     4.727586               290\n",
      "557205     2858       5  967360479     4.773519               287\n"
     ]
    }
   ],
   "source": [
    "print(recommend(16, [1724,200]).head())"
   ]
  },
  {
   "cell_type": "code",
   "execution_count": null,
   "metadata": {},
   "outputs": [],
   "source": []
  }
 ],
 "metadata": {
  "kernelspec": {
   "display_name": "Python 3",
   "language": "python",
   "name": "python3"
  },
  "language_info": {
   "codemirror_mode": {
    "name": "ipython",
    "version": 3
   },
   "file_extension": ".py",
   "mimetype": "text/x-python",
   "name": "python",
   "nbconvert_exporter": "python",
   "pygments_lexer": "ipython3",
   "version": "3.10.11"
  },
  "orig_nbformat": 4
 },
 "nbformat": 4,
 "nbformat_minor": 2
}
