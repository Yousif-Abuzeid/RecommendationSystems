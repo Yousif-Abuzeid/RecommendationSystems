{
 "cells": [
  {
   "cell_type": "code",
   "execution_count": 27,
   "metadata": {},
   "outputs": [],
   "source": [
    "import numpy as np\n",
    "import pandas as pd"
   ]
  },
  {
   "cell_type": "code",
   "execution_count": 28,
   "metadata": {},
   "outputs": [],
   "source": [
    "df1=pd.read_csv('songsDataSet.csv')"
   ]
  },
  {
   "cell_type": "code",
   "execution_count": 29,
   "metadata": {},
   "outputs": [],
   "source": [
    "def recommend(user_id,song_list=[]):\n",
    "    \n",
    "    df=df1.copy()\n",
    "\n",
    "    my_user=df[df['userID']==user_id]\n",
    "\n",
    "    if(song_list!=[]):\n",
    "        my_user_latest_songs=song_list\n",
    "\n",
    "    my_user_latest_songs=my_user.sort_values(by='rating',ascending=False).head(5)\n",
    "\n",
    "    similar_users=df[df['songID'].isin(my_user_latest_songs['songID'].tolist()) &  (df['userID'] != user_id) &(df['rating'] > 4) ]\n",
    "\n",
    "    similar_users=df[df['userID'].isin(similar_users['userID'])]\n",
    "\n",
    "    similar_users_songs=similar_users[~similar_users['songID'].isin(my_user_latest_five_songs['songID'].tolist())]\n",
    "\n",
    "    song_options=similar_users_songs[similar_users_songs['rating'] >= 4]\n",
    "\n",
    "    song_options=song_options.sort_values(by='rating',ascending=False)\n",
    "\n",
    "    new_df=song_options\n",
    "\n",
    "    mean_ratings = song_options.groupby('songID')['rating'].mean()\n",
    "\n",
    "# Merge the mean_ratings back into the original DataFrame\n",
    "    new_df = new_df.merge(mean_ratings, left_on='songID', right_index=True, suffixes=('', '_mean'))\n",
    "\n",
    "    value_counts=new_df['songID'].value_counts()\n",
    "\n",
    "    new_df['value_counts_col']=new_df['songID'].map(value_counts)\n",
    "\n",
    "    new_df=new_df.sort_values(by=['value_counts_col','rating_mean'],ascending=False)\n",
    "\n",
    "    new_df=new_df.drop_duplicates(subset=['songID'])\n",
    "    new_df=new_df.drop(columns=['userID'])\n",
    "    return new_df[:5]\n"
   ]
  },
  {
   "cell_type": "code",
   "execution_count": 26,
   "metadata": {},
   "outputs": [
    {
     "name": "stdout",
     "output_type": "stream",
     "text": [
      "         songID  rating  rating_mean  value_counts_col\n",
      "670       13938       5     5.000000               151\n",
      "1311603   39616       5     5.000000                80\n",
      "1336950    1905       5     5.000000                15\n",
      "1295167   74168       5     5.000000                10\n",
      "971070     1724       5     4.888889                 9\n"
     ]
    }
   ],
   "source": [
    "print(recommend(16, [1724,16578]).head())"
   ]
  },
  {
   "cell_type": "code",
   "execution_count": null,
   "metadata": {},
   "outputs": [],
   "source": []
  }
 ],
 "metadata": {
  "kernelspec": {
   "display_name": "Bachelor",
   "language": "python",
   "name": "python3"
  },
  "language_info": {
   "codemirror_mode": {
    "name": "ipython",
    "version": 3
   },
   "file_extension": ".py",
   "mimetype": "text/x-python",
   "name": "python",
   "nbconvert_exporter": "python",
   "pygments_lexer": "ipython3",
   "version": "3.10.11"
  },
  "orig_nbformat": 4
 },
 "nbformat": 4,
 "nbformat_minor": 2
}
